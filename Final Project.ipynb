{
 "cells": [
  {
   "cell_type": "code",
   "execution_count": 249,
   "metadata": {},
   "outputs": [],
   "source": [
    "import pandas as pd\n",
    "import numpy as np\n",
    "import matplotlib.pyplot as plt\n",
    "import seaborn as sns\n",
    "from sklearn.preprocessing import OneHotEncoder\n",
    "from sklearn.preprocessing import StandardScaler\n",
    "from sklearn.decomposition import PCA\n",
    "from sklearn.ensemble import RandomForestClassifier\n",
    "from sklearn.datasets import make_classification\n",
    "from sklearn.metrics import accuracy_score\n",
    "from sklearn.metrics import confusion_matrix\n",
    "from sklearn.metrics import precision_recall_fscore_support"
   ]
  },
  {
   "cell_type": "markdown",
   "metadata": {},
   "source": [
    "## Overview of the data"
   ]
  },
  {
   "cell_type": "code",
   "execution_count": 207,
   "metadata": {},
   "outputs": [],
   "source": [
    "df = pd.read_csv(\"/Users/fredpeng/Desktop/weatherAUS.csv\")"
   ]
  },
  {
   "cell_type": "code",
   "execution_count": 208,
   "metadata": {},
   "outputs": [
    {
     "data": {
      "text/html": [
       "<div>\n",
       "<style scoped>\n",
       "    .dataframe tbody tr th:only-of-type {\n",
       "        vertical-align: middle;\n",
       "    }\n",
       "\n",
       "    .dataframe tbody tr th {\n",
       "        vertical-align: top;\n",
       "    }\n",
       "\n",
       "    .dataframe thead th {\n",
       "        text-align: right;\n",
       "    }\n",
       "</style>\n",
       "<table border=\"1\" class=\"dataframe\">\n",
       "  <thead>\n",
       "    <tr style=\"text-align: right;\">\n",
       "      <th></th>\n",
       "      <th>Date</th>\n",
       "      <th>Location</th>\n",
       "      <th>MinTemp</th>\n",
       "      <th>MaxTemp</th>\n",
       "      <th>Rainfall</th>\n",
       "      <th>Evaporation</th>\n",
       "      <th>Sunshine</th>\n",
       "      <th>WindGustDir</th>\n",
       "      <th>WindGustSpeed</th>\n",
       "      <th>WindDir9am</th>\n",
       "      <th>...</th>\n",
       "      <th>Humidity9am</th>\n",
       "      <th>Humidity3pm</th>\n",
       "      <th>Pressure9am</th>\n",
       "      <th>Pressure3pm</th>\n",
       "      <th>Cloud9am</th>\n",
       "      <th>Cloud3pm</th>\n",
       "      <th>Temp9am</th>\n",
       "      <th>Temp3pm</th>\n",
       "      <th>RainToday</th>\n",
       "      <th>RainTomorrow</th>\n",
       "    </tr>\n",
       "  </thead>\n",
       "  <tbody>\n",
       "    <tr>\n",
       "      <th>0</th>\n",
       "      <td>2008-12-01</td>\n",
       "      <td>Albury</td>\n",
       "      <td>13.4</td>\n",
       "      <td>22.9</td>\n",
       "      <td>0.6</td>\n",
       "      <td>NaN</td>\n",
       "      <td>NaN</td>\n",
       "      <td>W</td>\n",
       "      <td>44.0</td>\n",
       "      <td>W</td>\n",
       "      <td>...</td>\n",
       "      <td>71.0</td>\n",
       "      <td>22.0</td>\n",
       "      <td>1007.7</td>\n",
       "      <td>1007.1</td>\n",
       "      <td>8.0</td>\n",
       "      <td>NaN</td>\n",
       "      <td>16.9</td>\n",
       "      <td>21.8</td>\n",
       "      <td>No</td>\n",
       "      <td>No</td>\n",
       "    </tr>\n",
       "    <tr>\n",
       "      <th>1</th>\n",
       "      <td>2008-12-02</td>\n",
       "      <td>Albury</td>\n",
       "      <td>7.4</td>\n",
       "      <td>25.1</td>\n",
       "      <td>0.0</td>\n",
       "      <td>NaN</td>\n",
       "      <td>NaN</td>\n",
       "      <td>WNW</td>\n",
       "      <td>44.0</td>\n",
       "      <td>NNW</td>\n",
       "      <td>...</td>\n",
       "      <td>44.0</td>\n",
       "      <td>25.0</td>\n",
       "      <td>1010.6</td>\n",
       "      <td>1007.8</td>\n",
       "      <td>NaN</td>\n",
       "      <td>NaN</td>\n",
       "      <td>17.2</td>\n",
       "      <td>24.3</td>\n",
       "      <td>No</td>\n",
       "      <td>No</td>\n",
       "    </tr>\n",
       "    <tr>\n",
       "      <th>2</th>\n",
       "      <td>2008-12-03</td>\n",
       "      <td>Albury</td>\n",
       "      <td>12.9</td>\n",
       "      <td>25.7</td>\n",
       "      <td>0.0</td>\n",
       "      <td>NaN</td>\n",
       "      <td>NaN</td>\n",
       "      <td>WSW</td>\n",
       "      <td>46.0</td>\n",
       "      <td>W</td>\n",
       "      <td>...</td>\n",
       "      <td>38.0</td>\n",
       "      <td>30.0</td>\n",
       "      <td>1007.6</td>\n",
       "      <td>1008.7</td>\n",
       "      <td>NaN</td>\n",
       "      <td>2.0</td>\n",
       "      <td>21.0</td>\n",
       "      <td>23.2</td>\n",
       "      <td>No</td>\n",
       "      <td>No</td>\n",
       "    </tr>\n",
       "    <tr>\n",
       "      <th>3</th>\n",
       "      <td>2008-12-04</td>\n",
       "      <td>Albury</td>\n",
       "      <td>9.2</td>\n",
       "      <td>28.0</td>\n",
       "      <td>0.0</td>\n",
       "      <td>NaN</td>\n",
       "      <td>NaN</td>\n",
       "      <td>NE</td>\n",
       "      <td>24.0</td>\n",
       "      <td>SE</td>\n",
       "      <td>...</td>\n",
       "      <td>45.0</td>\n",
       "      <td>16.0</td>\n",
       "      <td>1017.6</td>\n",
       "      <td>1012.8</td>\n",
       "      <td>NaN</td>\n",
       "      <td>NaN</td>\n",
       "      <td>18.1</td>\n",
       "      <td>26.5</td>\n",
       "      <td>No</td>\n",
       "      <td>No</td>\n",
       "    </tr>\n",
       "    <tr>\n",
       "      <th>4</th>\n",
       "      <td>2008-12-05</td>\n",
       "      <td>Albury</td>\n",
       "      <td>17.5</td>\n",
       "      <td>32.3</td>\n",
       "      <td>1.0</td>\n",
       "      <td>NaN</td>\n",
       "      <td>NaN</td>\n",
       "      <td>W</td>\n",
       "      <td>41.0</td>\n",
       "      <td>ENE</td>\n",
       "      <td>...</td>\n",
       "      <td>82.0</td>\n",
       "      <td>33.0</td>\n",
       "      <td>1010.8</td>\n",
       "      <td>1006.0</td>\n",
       "      <td>7.0</td>\n",
       "      <td>8.0</td>\n",
       "      <td>17.8</td>\n",
       "      <td>29.7</td>\n",
       "      <td>No</td>\n",
       "      <td>No</td>\n",
       "    </tr>\n",
       "    <tr>\n",
       "      <th>...</th>\n",
       "      <td>...</td>\n",
       "      <td>...</td>\n",
       "      <td>...</td>\n",
       "      <td>...</td>\n",
       "      <td>...</td>\n",
       "      <td>...</td>\n",
       "      <td>...</td>\n",
       "      <td>...</td>\n",
       "      <td>...</td>\n",
       "      <td>...</td>\n",
       "      <td>...</td>\n",
       "      <td>...</td>\n",
       "      <td>...</td>\n",
       "      <td>...</td>\n",
       "      <td>...</td>\n",
       "      <td>...</td>\n",
       "      <td>...</td>\n",
       "      <td>...</td>\n",
       "      <td>...</td>\n",
       "      <td>...</td>\n",
       "      <td>...</td>\n",
       "    </tr>\n",
       "    <tr>\n",
       "      <th>145455</th>\n",
       "      <td>2017-06-21</td>\n",
       "      <td>Uluru</td>\n",
       "      <td>2.8</td>\n",
       "      <td>23.4</td>\n",
       "      <td>0.0</td>\n",
       "      <td>NaN</td>\n",
       "      <td>NaN</td>\n",
       "      <td>E</td>\n",
       "      <td>31.0</td>\n",
       "      <td>SE</td>\n",
       "      <td>...</td>\n",
       "      <td>51.0</td>\n",
       "      <td>24.0</td>\n",
       "      <td>1024.6</td>\n",
       "      <td>1020.3</td>\n",
       "      <td>NaN</td>\n",
       "      <td>NaN</td>\n",
       "      <td>10.1</td>\n",
       "      <td>22.4</td>\n",
       "      <td>No</td>\n",
       "      <td>No</td>\n",
       "    </tr>\n",
       "    <tr>\n",
       "      <th>145456</th>\n",
       "      <td>2017-06-22</td>\n",
       "      <td>Uluru</td>\n",
       "      <td>3.6</td>\n",
       "      <td>25.3</td>\n",
       "      <td>0.0</td>\n",
       "      <td>NaN</td>\n",
       "      <td>NaN</td>\n",
       "      <td>NNW</td>\n",
       "      <td>22.0</td>\n",
       "      <td>SE</td>\n",
       "      <td>...</td>\n",
       "      <td>56.0</td>\n",
       "      <td>21.0</td>\n",
       "      <td>1023.5</td>\n",
       "      <td>1019.1</td>\n",
       "      <td>NaN</td>\n",
       "      <td>NaN</td>\n",
       "      <td>10.9</td>\n",
       "      <td>24.5</td>\n",
       "      <td>No</td>\n",
       "      <td>No</td>\n",
       "    </tr>\n",
       "    <tr>\n",
       "      <th>145457</th>\n",
       "      <td>2017-06-23</td>\n",
       "      <td>Uluru</td>\n",
       "      <td>5.4</td>\n",
       "      <td>26.9</td>\n",
       "      <td>0.0</td>\n",
       "      <td>NaN</td>\n",
       "      <td>NaN</td>\n",
       "      <td>N</td>\n",
       "      <td>37.0</td>\n",
       "      <td>SE</td>\n",
       "      <td>...</td>\n",
       "      <td>53.0</td>\n",
       "      <td>24.0</td>\n",
       "      <td>1021.0</td>\n",
       "      <td>1016.8</td>\n",
       "      <td>NaN</td>\n",
       "      <td>NaN</td>\n",
       "      <td>12.5</td>\n",
       "      <td>26.1</td>\n",
       "      <td>No</td>\n",
       "      <td>No</td>\n",
       "    </tr>\n",
       "    <tr>\n",
       "      <th>145458</th>\n",
       "      <td>2017-06-24</td>\n",
       "      <td>Uluru</td>\n",
       "      <td>7.8</td>\n",
       "      <td>27.0</td>\n",
       "      <td>0.0</td>\n",
       "      <td>NaN</td>\n",
       "      <td>NaN</td>\n",
       "      <td>SE</td>\n",
       "      <td>28.0</td>\n",
       "      <td>SSE</td>\n",
       "      <td>...</td>\n",
       "      <td>51.0</td>\n",
       "      <td>24.0</td>\n",
       "      <td>1019.4</td>\n",
       "      <td>1016.5</td>\n",
       "      <td>3.0</td>\n",
       "      <td>2.0</td>\n",
       "      <td>15.1</td>\n",
       "      <td>26.0</td>\n",
       "      <td>No</td>\n",
       "      <td>No</td>\n",
       "    </tr>\n",
       "    <tr>\n",
       "      <th>145459</th>\n",
       "      <td>2017-06-25</td>\n",
       "      <td>Uluru</td>\n",
       "      <td>14.9</td>\n",
       "      <td>NaN</td>\n",
       "      <td>0.0</td>\n",
       "      <td>NaN</td>\n",
       "      <td>NaN</td>\n",
       "      <td>NaN</td>\n",
       "      <td>NaN</td>\n",
       "      <td>ESE</td>\n",
       "      <td>...</td>\n",
       "      <td>62.0</td>\n",
       "      <td>36.0</td>\n",
       "      <td>1020.2</td>\n",
       "      <td>1017.9</td>\n",
       "      <td>8.0</td>\n",
       "      <td>8.0</td>\n",
       "      <td>15.0</td>\n",
       "      <td>20.9</td>\n",
       "      <td>No</td>\n",
       "      <td>NaN</td>\n",
       "    </tr>\n",
       "  </tbody>\n",
       "</table>\n",
       "<p>145460 rows × 23 columns</p>\n",
       "</div>"
      ],
      "text/plain": [
       "              Date Location  MinTemp  MaxTemp  Rainfall  Evaporation  \\\n",
       "0       2008-12-01   Albury     13.4     22.9       0.6          NaN   \n",
       "1       2008-12-02   Albury      7.4     25.1       0.0          NaN   \n",
       "2       2008-12-03   Albury     12.9     25.7       0.0          NaN   \n",
       "3       2008-12-04   Albury      9.2     28.0       0.0          NaN   \n",
       "4       2008-12-05   Albury     17.5     32.3       1.0          NaN   \n",
       "...            ...      ...      ...      ...       ...          ...   \n",
       "145455  2017-06-21    Uluru      2.8     23.4       0.0          NaN   \n",
       "145456  2017-06-22    Uluru      3.6     25.3       0.0          NaN   \n",
       "145457  2017-06-23    Uluru      5.4     26.9       0.0          NaN   \n",
       "145458  2017-06-24    Uluru      7.8     27.0       0.0          NaN   \n",
       "145459  2017-06-25    Uluru     14.9      NaN       0.0          NaN   \n",
       "\n",
       "        Sunshine WindGustDir  WindGustSpeed WindDir9am  ... Humidity9am  \\\n",
       "0            NaN           W           44.0          W  ...        71.0   \n",
       "1            NaN         WNW           44.0        NNW  ...        44.0   \n",
       "2            NaN         WSW           46.0          W  ...        38.0   \n",
       "3            NaN          NE           24.0         SE  ...        45.0   \n",
       "4            NaN           W           41.0        ENE  ...        82.0   \n",
       "...          ...         ...            ...        ...  ...         ...   \n",
       "145455       NaN           E           31.0         SE  ...        51.0   \n",
       "145456       NaN         NNW           22.0         SE  ...        56.0   \n",
       "145457       NaN           N           37.0         SE  ...        53.0   \n",
       "145458       NaN          SE           28.0        SSE  ...        51.0   \n",
       "145459       NaN         NaN            NaN        ESE  ...        62.0   \n",
       "\n",
       "        Humidity3pm  Pressure9am  Pressure3pm  Cloud9am  Cloud3pm  Temp9am  \\\n",
       "0              22.0       1007.7       1007.1       8.0       NaN     16.9   \n",
       "1              25.0       1010.6       1007.8       NaN       NaN     17.2   \n",
       "2              30.0       1007.6       1008.7       NaN       2.0     21.0   \n",
       "3              16.0       1017.6       1012.8       NaN       NaN     18.1   \n",
       "4              33.0       1010.8       1006.0       7.0       8.0     17.8   \n",
       "...             ...          ...          ...       ...       ...      ...   \n",
       "145455         24.0       1024.6       1020.3       NaN       NaN     10.1   \n",
       "145456         21.0       1023.5       1019.1       NaN       NaN     10.9   \n",
       "145457         24.0       1021.0       1016.8       NaN       NaN     12.5   \n",
       "145458         24.0       1019.4       1016.5       3.0       2.0     15.1   \n",
       "145459         36.0       1020.2       1017.9       8.0       8.0     15.0   \n",
       "\n",
       "        Temp3pm  RainToday  RainTomorrow  \n",
       "0          21.8         No            No  \n",
       "1          24.3         No            No  \n",
       "2          23.2         No            No  \n",
       "3          26.5         No            No  \n",
       "4          29.7         No            No  \n",
       "...         ...        ...           ...  \n",
       "145455     22.4         No            No  \n",
       "145456     24.5         No            No  \n",
       "145457     26.1         No            No  \n",
       "145458     26.0         No            No  \n",
       "145459     20.9         No           NaN  \n",
       "\n",
       "[145460 rows x 23 columns]"
      ]
     },
     "execution_count": 208,
     "metadata": {},
     "output_type": "execute_result"
    }
   ],
   "source": [
    "df"
   ]
  },
  {
   "cell_type": "markdown",
   "metadata": {},
   "source": [
    "### contains 145460 objects and 23 features:"
   ]
  },
  {
   "cell_type": "code",
   "execution_count": 209,
   "metadata": {},
   "outputs": [
    {
     "data": {
      "text/plain": [
       "(145460, 23)"
      ]
     },
     "execution_count": 209,
     "metadata": {},
     "output_type": "execute_result"
    }
   ],
   "source": [
    "df.shape"
   ]
  },
  {
   "cell_type": "markdown",
   "metadata": {},
   "source": [
    "### Many missing values:"
   ]
  },
  {
   "cell_type": "code",
   "execution_count": 210,
   "metadata": {},
   "outputs": [
    {
     "data": {
      "text/plain": [
       "Date                 0\n",
       "Location             0\n",
       "MinTemp           1485\n",
       "MaxTemp           1261\n",
       "Rainfall          3261\n",
       "Evaporation      62790\n",
       "Sunshine         69835\n",
       "WindGustDir      10326\n",
       "WindGustSpeed    10263\n",
       "WindDir9am       10566\n",
       "WindDir3pm        4228\n",
       "WindSpeed9am      1767\n",
       "WindSpeed3pm      3062\n",
       "Humidity9am       2654\n",
       "Humidity3pm       4507\n",
       "Pressure9am      15065\n",
       "Pressure3pm      15028\n",
       "Cloud9am         55888\n",
       "Cloud3pm         59358\n",
       "Temp9am           1767\n",
       "Temp3pm           3609\n",
       "RainToday         3261\n",
       "RainTomorrow      3267\n",
       "dtype: int64"
      ]
     },
     "execution_count": 210,
     "metadata": {},
     "output_type": "execute_result"
    }
   ],
   "source": [
    "df.isnull().sum()"
   ]
  },
  {
   "cell_type": "markdown",
   "metadata": {},
   "source": [
    "### The target data is imbalanced-nearly 76% indicate \"No\""
   ]
  },
  {
   "cell_type": "code",
   "execution_count": 211,
   "metadata": {},
   "outputs": [
    {
     "name": "stdout",
     "output_type": "stream",
     "text": [
      "percentage of No in \"RainTomorrow(target variable)\"= 75.83940602227418%\n",
      "percentage of Yes in \"RainTomorrow(target variable)\"= 24.16059397772583%\n"
     ]
    },
    {
     "data": {
      "image/png": "[encoded data removed]",
      "text/plain": [
       "<Figure size 432x288 with 1 Axes>"
      ]
     },
     "metadata": {
      "needs_background": "light"
     },
     "output_type": "display_data"
    }
   ],
   "source": [
    "ax=sns.countplot(x = df.RainTomorrow ,palette=\"Set3\")\n",
    "count=0\n",
    "for i in df.RainTomorrow:\n",
    "    if i==\"No\":\n",
    "        count=count+1\n",
    "per_of_0=count/145460\n",
    "per_of_1=1-per_of_0\n",
    "print('percentage of No in \"RainTomorrow(target variable)\"= '+ str(per_of_0*100)+'%')\n",
    "print('percentage of Yes in \"RainTomorrow(target variable)\"= '+ str(per_of_1*100)+'%')"
   ]
  },
  {
   "cell_type": "markdown",
   "metadata": {},
   "source": [
    "### Since we have enough data, and there are too much missing value, imputation will be relatively meaningless and extremely complicated,and  we simply drop all the rows that contains missing value. \n",
    "\n",
    "### PS. As I tried, even if we do the imputation there will be no improvement or only tiny improvement on the result."
   ]
  },
  {
   "cell_type": "code",
   "execution_count": 212,
   "metadata": {},
   "outputs": [],
   "source": [
    "df_dropallNA=df.dropna()"
   ]
  },
  {
   "cell_type": "markdown",
   "metadata": {},
   "source": [
    "### After dropping all NA, we still have 56420 objects:"
   ]
  },
  {
   "cell_type": "code",
   "execution_count": 213,
   "metadata": {},
   "outputs": [
    {
     "data": {
      "text/plain": [
       "(56420, 23)"
      ]
     },
     "execution_count": 213,
     "metadata": {},
     "output_type": "execute_result"
    }
   ],
   "source": [
    "df_dropallNA.shape"
   ]
  },
  {
   "cell_type": "markdown",
   "metadata": {},
   "source": [
    "### Now nearly 78% of the target indicate \"No\""
   ]
  },
  {
   "cell_type": "code",
   "execution_count": 214,
   "metadata": {},
   "outputs": [
    {
     "name": "stdout",
     "output_type": "stream",
     "text": [
      "percentage of No in \"RainTomorrow(target variable)\"= 77.974122651542%\n",
      "percentage of Yes in \"RainTomorrow(target variable)\"= 22.02587734845799%\n"
     ]
    },
    {
     "data": {
      "image/png": "[encoded data removed]",
      "text/plain": [
       "<Figure size 432x288 with 1 Axes>"
      ]
     },
     "metadata": {
      "needs_background": "light"
     },
     "output_type": "display_data"
    }
   ],
   "source": [
    "ax=sns.countplot(x = df_dropallNA.RainTomorrow ,palette=\"Set3\")\n",
    "count=0\n",
    "for i in df_dropallNA.RainTomorrow:\n",
    "    if i==\"No\":\n",
    "        count=count+1\n",
    "per_of_0=count/df_dropallNA.shape[0]\n",
    "per_of_1=1-per_of_0\n",
    "print('percentage of No in \"RainTomorrow(target variable)\"= '+ str(per_of_0*100)+'%')\n",
    "print('percentage of Yes in \"RainTomorrow(target variable)\"= '+ str(per_of_1*100)+'%')"
   ]
  },
  {
   "cell_type": "markdown",
   "metadata": {},
   "source": [
    "### The feature \"Date\" should be meaningless and we drop it"
   ]
  },
  {
   "cell_type": "code",
   "execution_count": 215,
   "metadata": {},
   "outputs": [],
   "source": [
    "#drop the date colunm\n",
    "df=df_dropallNA.drop(['Date'],axis=1)"
   ]
  },
  {
   "cell_type": "code",
   "execution_count": 216,
   "metadata": {},
   "outputs": [],
   "source": [
    "numer = df._get_numeric_data().columns"
   ]
  },
  {
   "cell_type": "markdown",
   "metadata": {},
   "source": [
    "### Transform \"No\" to 0 and \"Yes\" to 1 for the target variable"
   ]
  },
  {
   "cell_type": "code",
   "execution_count": 217,
   "metadata": {},
   "outputs": [],
   "source": [
    "\n",
    "df.RainToday=df.RainToday.map(dict(Yes=1, No=0))"
   ]
  },
  {
   "cell_type": "code",
   "execution_count": 218,
   "metadata": {},
   "outputs": [],
   "source": [
    "df.RainTomorrow=df.RainTomorrow.map(dict(Yes=1, No=0))"
   ]
  },
  {
   "cell_type": "markdown",
   "metadata": {},
   "source": [
    "### Outlier detection for numerical variable"
   ]
  },
  {
   "cell_type": "code",
   "execution_count": 219,
   "metadata": {
    "scrolled": false
   },
   "outputs": [
    {
     "name": "stdout",
     "output_type": "stream",
     "text": [
      "Index(['MinTemp', 'MaxTemp', 'Rainfall', 'Evaporation', 'Sunshine',\n",
      "       'WindGustSpeed', 'WindSpeed9am', 'WindSpeed3pm', 'Humidity9am',\n",
      "       'Humidity3pm', 'Pressure9am', 'Pressure3pm', 'Cloud9am', 'Cloud3pm',\n",
      "       'Temp9am', 'Temp3pm'],\n",
      "      dtype='object')\n"
     ]
    },
    {
     "data": {
      "image/png": "[encoded data removed]",
      "text/plain": [
       "<Figure size 1080x1080 with 16 Axes>"
      ]
     },
     "metadata": {
      "needs_background": "light"
     },
     "output_type": "display_data"
    }
   ],
   "source": [
    "rows = 8\n",
    "cols = 2\n",
    "fig, ax = plt.subplots(rows, cols, figsize=(15,15))\n",
    "print(numer)\n",
    "i=0;j=0;k=0;\n",
    "while i<num_of_rows:\n",
    "    while j<num_of_cols:\n",
    "        sns.boxplot(df[numer[k]], ax=ax[i, j])\n",
    "        k+=1;j+=1\n",
    "    j=0;i+=1\n",
    "plt.show()"
   ]
  },
  {
   "cell_type": "markdown",
   "metadata": {},
   "source": [
    "### Remove outliers in numerical variable"
   ]
  },
  {
   "cell_type": "code",
   "execution_count": 220,
   "metadata": {},
   "outputs": [],
   "source": [
    "\n",
    "def remov_out(numer):\n",
    "    for i in range(len(numer)):\n",
    "        q1 = df[numer[i]].quantile(0.25)\n",
    "        q3 = df[numer[i]].quantile(0.75)\n",
    "        IQR = q3-q1\n",
    "        lower = q1 - 1.5 * IQR\n",
    "        upper = q3 + 1.5 * IQR\n",
    "        df.loc[(df[numerical[i]] <= lower), numer[i]] = lower\n",
    "        df.loc[(df[numerical[i]] >= upper), numer[i]] = upper\n",
    "remov_out(numer)"
   ]
  },
  {
   "cell_type": "code",
   "execution_count": 221,
   "metadata": {},
   "outputs": [
    {
     "name": "stdout",
     "output_type": "stream",
     "text": [
      "Index(['MinTemp', 'MaxTemp', 'Rainfall', 'Evaporation', 'Sunshine',\n",
      "       'WindGustSpeed', 'WindSpeed9am', 'WindSpeed3pm', 'Humidity9am',\n",
      "       'Humidity3pm', 'Pressure9am', 'Pressure3pm', 'Cloud9am', 'Cloud3pm',\n",
      "       'Temp9am', 'Temp3pm'],\n",
      "      dtype='object')\n"
     ]
    },
    {
     "data": {
      "image/png": "[encoded data removed]",
      "text/plain": [
       "<Figure size 1080x1080 with 16 Axes>"
      ]
     },
     "metadata": {
      "needs_background": "light"
     },
     "output_type": "display_data"
    }
   ],
   "source": [
    "rows = 8\n",
    "cols = 2\n",
    "fig, ax = plt.subplots(rows, cols, figsize=(15,15))\n",
    "print(numer)\n",
    "i=0;j=0;k=0;\n",
    "while i<num_of_rows:\n",
    "    while j<num_of_cols:\n",
    "        sns.boxplot(df[numer[k]], ax=ax[i, j])\n",
    "        k+=1;j+=1\n",
    "    j=0;i+=1\n",
    "plt.show()"
   ]
  },
  {
   "cell_type": "markdown",
   "metadata": {},
   "source": [
    "### One hot encoding for categorical variables:"
   ]
  },
  {
   "cell_type": "code",
   "execution_count": 222,
   "metadata": {},
   "outputs": [],
   "source": [
    "\n",
    "df_WindGustDir = pd.get_dummies(df[\"WindGustDir\"], prefix=\"WGD\")\n",
    "df_WindDir9am = pd.get_dummies(df[\"WindDir9am\"], prefix=\"WD9\")\n",
    "df_WindDir3pm = pd.get_dummies(df[\"WindDir3pm\"], prefix=\"WD3\")\n",
    "df_RainToday = pd.get_dummies(df[\"RainToday\"])\n",
    "df_location = pd.get_dummies(df[\"Location\"])\n",
    "df_new = pd.concat([df, df_WindGustDir, df_WindDir9am, df_WindDir3pm, df_RainToday, df_location], axis=1)\n",
    "df_new.drop(columns=[\"WindGustDir\", \"WindDir9am\", \"WindDir3pm\", \"RainToday\", \"Location\"], axis=1, inplace=True)"
   ]
  },
  {
   "cell_type": "code",
   "execution_count": 223,
   "metadata": {},
   "outputs": [
    {
     "data": {
      "text/html": [
       "<div>\n",
       "<style scoped>\n",
       "    .dataframe tbody tr th:only-of-type {\n",
       "        vertical-align: middle;\n",
       "    }\n",
       "\n",
       "    .dataframe tbody tr th {\n",
       "        vertical-align: top;\n",
       "    }\n",
       "\n",
       "    .dataframe thead th {\n",
       "        text-align: right;\n",
       "    }\n",
       "</style>\n",
       "<table border=\"1\" class=\"dataframe\">\n",
       "  <thead>\n",
       "    <tr style=\"text-align: right;\">\n",
       "      <th></th>\n",
       "      <th>MinTemp</th>\n",
       "      <th>MaxTemp</th>\n",
       "      <th>Rainfall</th>\n",
       "      <th>Evaporation</th>\n",
       "      <th>Sunshine</th>\n",
       "      <th>WindGustSpeed</th>\n",
       "      <th>WindSpeed9am</th>\n",
       "      <th>WindSpeed3pm</th>\n",
       "      <th>Humidity9am</th>\n",
       "      <th>Humidity3pm</th>\n",
       "      <th>...</th>\n",
       "      <th>PerthAirport</th>\n",
       "      <th>Portland</th>\n",
       "      <th>Sale</th>\n",
       "      <th>Sydney</th>\n",
       "      <th>SydneyAirport</th>\n",
       "      <th>Townsville</th>\n",
       "      <th>WaggaWagga</th>\n",
       "      <th>Watsonia</th>\n",
       "      <th>Williamtown</th>\n",
       "      <th>Woomera</th>\n",
       "    </tr>\n",
       "  </thead>\n",
       "  <tbody>\n",
       "    <tr>\n",
       "      <th>6049</th>\n",
       "      <td>17.9</td>\n",
       "      <td>35.2</td>\n",
       "      <td>0.0</td>\n",
       "      <td>12.0</td>\n",
       "      <td>12.3</td>\n",
       "      <td>48.0</td>\n",
       "      <td>6.0</td>\n",
       "      <td>20.0</td>\n",
       "      <td>20.0</td>\n",
       "      <td>13.0</td>\n",
       "      <td>...</td>\n",
       "      <td>0</td>\n",
       "      <td>0</td>\n",
       "      <td>0</td>\n",
       "      <td>0</td>\n",
       "      <td>0</td>\n",
       "      <td>0</td>\n",
       "      <td>0</td>\n",
       "      <td>0</td>\n",
       "      <td>0</td>\n",
       "      <td>0</td>\n",
       "    </tr>\n",
       "    <tr>\n",
       "      <th>6050</th>\n",
       "      <td>18.4</td>\n",
       "      <td>28.9</td>\n",
       "      <td>0.0</td>\n",
       "      <td>14.3</td>\n",
       "      <td>13.0</td>\n",
       "      <td>37.0</td>\n",
       "      <td>19.0</td>\n",
       "      <td>19.0</td>\n",
       "      <td>30.0</td>\n",
       "      <td>8.0</td>\n",
       "      <td>...</td>\n",
       "      <td>0</td>\n",
       "      <td>0</td>\n",
       "      <td>0</td>\n",
       "      <td>0</td>\n",
       "      <td>0</td>\n",
       "      <td>0</td>\n",
       "      <td>0</td>\n",
       "      <td>0</td>\n",
       "      <td>0</td>\n",
       "      <td>0</td>\n",
       "    </tr>\n",
       "    <tr>\n",
       "      <th>6052</th>\n",
       "      <td>19.4</td>\n",
       "      <td>37.6</td>\n",
       "      <td>0.0</td>\n",
       "      <td>10.8</td>\n",
       "      <td>10.6</td>\n",
       "      <td>46.0</td>\n",
       "      <td>30.0</td>\n",
       "      <td>15.0</td>\n",
       "      <td>42.0</td>\n",
       "      <td>22.0</td>\n",
       "      <td>...</td>\n",
       "      <td>0</td>\n",
       "      <td>0</td>\n",
       "      <td>0</td>\n",
       "      <td>0</td>\n",
       "      <td>0</td>\n",
       "      <td>0</td>\n",
       "      <td>0</td>\n",
       "      <td>0</td>\n",
       "      <td>0</td>\n",
       "      <td>0</td>\n",
       "    </tr>\n",
       "    <tr>\n",
       "      <th>6053</th>\n",
       "      <td>21.9</td>\n",
       "      <td>38.4</td>\n",
       "      <td>0.0</td>\n",
       "      <td>11.4</td>\n",
       "      <td>12.2</td>\n",
       "      <td>31.0</td>\n",
       "      <td>6.0</td>\n",
       "      <td>6.0</td>\n",
       "      <td>37.0</td>\n",
       "      <td>22.0</td>\n",
       "      <td>...</td>\n",
       "      <td>0</td>\n",
       "      <td>0</td>\n",
       "      <td>0</td>\n",
       "      <td>0</td>\n",
       "      <td>0</td>\n",
       "      <td>0</td>\n",
       "      <td>0</td>\n",
       "      <td>0</td>\n",
       "      <td>0</td>\n",
       "      <td>0</td>\n",
       "    </tr>\n",
       "    <tr>\n",
       "      <th>6054</th>\n",
       "      <td>24.2</td>\n",
       "      <td>41.0</td>\n",
       "      <td>0.0</td>\n",
       "      <td>11.2</td>\n",
       "      <td>8.4</td>\n",
       "      <td>35.0</td>\n",
       "      <td>17.0</td>\n",
       "      <td>13.0</td>\n",
       "      <td>19.0</td>\n",
       "      <td>15.0</td>\n",
       "      <td>...</td>\n",
       "      <td>0</td>\n",
       "      <td>0</td>\n",
       "      <td>0</td>\n",
       "      <td>0</td>\n",
       "      <td>0</td>\n",
       "      <td>0</td>\n",
       "      <td>0</td>\n",
       "      <td>0</td>\n",
       "      <td>0</td>\n",
       "      <td>0</td>\n",
       "    </tr>\n",
       "    <tr>\n",
       "      <th>...</th>\n",
       "      <td>...</td>\n",
       "      <td>...</td>\n",
       "      <td>...</td>\n",
       "      <td>...</td>\n",
       "      <td>...</td>\n",
       "      <td>...</td>\n",
       "      <td>...</td>\n",
       "      <td>...</td>\n",
       "      <td>...</td>\n",
       "      <td>...</td>\n",
       "      <td>...</td>\n",
       "      <td>...</td>\n",
       "      <td>...</td>\n",
       "      <td>...</td>\n",
       "      <td>...</td>\n",
       "      <td>...</td>\n",
       "      <td>...</td>\n",
       "      <td>...</td>\n",
       "      <td>...</td>\n",
       "      <td>...</td>\n",
       "      <td>...</td>\n",
       "    </tr>\n",
       "    <tr>\n",
       "      <th>142298</th>\n",
       "      <td>19.3</td>\n",
       "      <td>33.4</td>\n",
       "      <td>0.0</td>\n",
       "      <td>6.0</td>\n",
       "      <td>11.0</td>\n",
       "      <td>35.0</td>\n",
       "      <td>9.0</td>\n",
       "      <td>20.0</td>\n",
       "      <td>63.0</td>\n",
       "      <td>32.0</td>\n",
       "      <td>...</td>\n",
       "      <td>0</td>\n",
       "      <td>0</td>\n",
       "      <td>0</td>\n",
       "      <td>0</td>\n",
       "      <td>0</td>\n",
       "      <td>0</td>\n",
       "      <td>0</td>\n",
       "      <td>0</td>\n",
       "      <td>0</td>\n",
       "      <td>0</td>\n",
       "    </tr>\n",
       "    <tr>\n",
       "      <th>142299</th>\n",
       "      <td>21.2</td>\n",
       "      <td>32.6</td>\n",
       "      <td>0.0</td>\n",
       "      <td>7.6</td>\n",
       "      <td>8.6</td>\n",
       "      <td>37.0</td>\n",
       "      <td>13.0</td>\n",
       "      <td>11.0</td>\n",
       "      <td>56.0</td>\n",
       "      <td>28.0</td>\n",
       "      <td>...</td>\n",
       "      <td>0</td>\n",
       "      <td>0</td>\n",
       "      <td>0</td>\n",
       "      <td>0</td>\n",
       "      <td>0</td>\n",
       "      <td>0</td>\n",
       "      <td>0</td>\n",
       "      <td>0</td>\n",
       "      <td>0</td>\n",
       "      <td>0</td>\n",
       "    </tr>\n",
       "    <tr>\n",
       "      <th>142300</th>\n",
       "      <td>20.7</td>\n",
       "      <td>32.8</td>\n",
       "      <td>0.0</td>\n",
       "      <td>5.6</td>\n",
       "      <td>11.0</td>\n",
       "      <td>33.0</td>\n",
       "      <td>17.0</td>\n",
       "      <td>11.0</td>\n",
       "      <td>46.0</td>\n",
       "      <td>23.0</td>\n",
       "      <td>...</td>\n",
       "      <td>0</td>\n",
       "      <td>0</td>\n",
       "      <td>0</td>\n",
       "      <td>0</td>\n",
       "      <td>0</td>\n",
       "      <td>0</td>\n",
       "      <td>0</td>\n",
       "      <td>0</td>\n",
       "      <td>0</td>\n",
       "      <td>0</td>\n",
       "    </tr>\n",
       "    <tr>\n",
       "      <th>142301</th>\n",
       "      <td>19.5</td>\n",
       "      <td>31.8</td>\n",
       "      <td>0.0</td>\n",
       "      <td>6.2</td>\n",
       "      <td>10.6</td>\n",
       "      <td>26.0</td>\n",
       "      <td>9.0</td>\n",
       "      <td>17.0</td>\n",
       "      <td>62.0</td>\n",
       "      <td>58.0</td>\n",
       "      <td>...</td>\n",
       "      <td>0</td>\n",
       "      <td>0</td>\n",
       "      <td>0</td>\n",
       "      <td>0</td>\n",
       "      <td>0</td>\n",
       "      <td>0</td>\n",
       "      <td>0</td>\n",
       "      <td>0</td>\n",
       "      <td>0</td>\n",
       "      <td>0</td>\n",
       "    </tr>\n",
       "    <tr>\n",
       "      <th>142302</th>\n",
       "      <td>20.2</td>\n",
       "      <td>31.7</td>\n",
       "      <td>0.0</td>\n",
       "      <td>5.6</td>\n",
       "      <td>10.7</td>\n",
       "      <td>30.0</td>\n",
       "      <td>15.0</td>\n",
       "      <td>7.0</td>\n",
       "      <td>73.0</td>\n",
       "      <td>32.0</td>\n",
       "      <td>...</td>\n",
       "      <td>0</td>\n",
       "      <td>0</td>\n",
       "      <td>0</td>\n",
       "      <td>0</td>\n",
       "      <td>0</td>\n",
       "      <td>0</td>\n",
       "      <td>0</td>\n",
       "      <td>0</td>\n",
       "      <td>0</td>\n",
       "      <td>0</td>\n",
       "    </tr>\n",
       "  </tbody>\n",
       "</table>\n",
       "<p>56420 rows × 93 columns</p>\n",
       "</div>"
      ],
      "text/plain": [
       "        MinTemp  MaxTemp  Rainfall  Evaporation  Sunshine  WindGustSpeed  \\\n",
       "6049       17.9     35.2       0.0         12.0      12.3           48.0   \n",
       "6050       18.4     28.9       0.0         14.3      13.0           37.0   \n",
       "6052       19.4     37.6       0.0         10.8      10.6           46.0   \n",
       "6053       21.9     38.4       0.0         11.4      12.2           31.0   \n",
       "6054       24.2     41.0       0.0         11.2       8.4           35.0   \n",
       "...         ...      ...       ...          ...       ...            ...   \n",
       "142298     19.3     33.4       0.0          6.0      11.0           35.0   \n",
       "142299     21.2     32.6       0.0          7.6       8.6           37.0   \n",
       "142300     20.7     32.8       0.0          5.6      11.0           33.0   \n",
       "142301     19.5     31.8       0.0          6.2      10.6           26.0   \n",
       "142302     20.2     31.7       0.0          5.6      10.7           30.0   \n",
       "\n",
       "        WindSpeed9am  WindSpeed3pm  Humidity9am  Humidity3pm  ...  \\\n",
       "6049             6.0          20.0         20.0         13.0  ...   \n",
       "6050            19.0          19.0         30.0          8.0  ...   \n",
       "6052            30.0          15.0         42.0         22.0  ...   \n",
       "6053             6.0           6.0         37.0         22.0  ...   \n",
       "6054            17.0          13.0         19.0         15.0  ...   \n",
       "...              ...           ...          ...          ...  ...   \n",
       "142298           9.0          20.0         63.0         32.0  ...   \n",
       "142299          13.0          11.0         56.0         28.0  ...   \n",
       "142300          17.0          11.0         46.0         23.0  ...   \n",
       "142301           9.0          17.0         62.0         58.0  ...   \n",
       "142302          15.0           7.0         73.0         32.0  ...   \n",
       "\n",
       "        PerthAirport  Portland  Sale  Sydney  SydneyAirport  Townsville  \\\n",
       "6049               0         0     0       0              0           0   \n",
       "6050               0         0     0       0              0           0   \n",
       "6052               0         0     0       0              0           0   \n",
       "6053               0         0     0       0              0           0   \n",
       "6054               0         0     0       0              0           0   \n",
       "...              ...       ...   ...     ...            ...         ...   \n",
       "142298             0         0     0       0              0           0   \n",
       "142299             0         0     0       0              0           0   \n",
       "142300             0         0     0       0              0           0   \n",
       "142301             0         0     0       0              0           0   \n",
       "142302             0         0     0       0              0           0   \n",
       "\n",
       "        WaggaWagga  Watsonia  Williamtown  Woomera  \n",
       "6049             0         0            0        0  \n",
       "6050             0         0            0        0  \n",
       "6052             0         0            0        0  \n",
       "6053             0         0            0        0  \n",
       "6054             0         0            0        0  \n",
       "...            ...       ...          ...      ...  \n",
       "142298           0         0            0        0  \n",
       "142299           0         0            0        0  \n",
       "142300           0         0            0        0  \n",
       "142301           0         0            0        0  \n",
       "142302           0         0            0        0  \n",
       "\n",
       "[56420 rows x 93 columns]"
      ]
     },
     "execution_count": 223,
     "metadata": {},
     "output_type": "execute_result"
    }
   ],
   "source": [
    "df_new"
   ]
  },
  {
   "cell_type": "markdown",
   "metadata": {},
   "source": [
    "### Train-Test split, (8:2)"
   ]
  },
  {
   "cell_type": "code",
   "execution_count": 224,
   "metadata": {},
   "outputs": [],
   "source": [
    "#Splitting (train vs test)\n",
    "from sklearn.model_selection import train_test_split, GridSearchCV\n",
    "train_set, test_set = train_test_split(df_new, test_size=0.2,random_state=30)"
   ]
  },
  {
   "cell_type": "code",
   "execution_count": 225,
   "metadata": {},
   "outputs": [],
   "source": [
    "x_Train=train_set.drop(['RainTomorrow'],axis=1)\n",
    "y_Train=train_set.RainTomorrow\n",
    "x_Test=test_set.drop(['RainTomorrow'],axis=1)\n",
    "y_Test=test_set.RainTomorrow"
   ]
  },
  {
   "cell_type": "markdown",
   "metadata": {},
   "source": [
    "### Scale the training data in order to do PCA"
   ]
  },
  {
   "cell_type": "code",
   "execution_count": 226,
   "metadata": {},
   "outputs": [],
   "source": [
    "scaler=StandardScaler()\n",
    "#fitting standardization on train data only\n",
    "scaler.fit(x_Train)\n",
    "x_Train_std = scaler.transform(x_Train)\n",
    "#X_Test_std = StandardScaler().transform(x_Test)\n"
   ]
  },
  {
   "cell_type": "code",
   "execution_count": 227,
   "metadata": {},
   "outputs": [
    {
     "data": {
      "text/plain": [
       "array([[ 0.70865628,  0.830651  , -0.6310177 , ..., -0.22407975,\n",
       "        -0.14827588, -0.17692608],\n",
       "       [-1.05119531, -0.43141973, -0.30303019, ..., -0.22407975,\n",
       "        -0.14827588, -0.17692608],\n",
       "       [-1.92333415, -1.50704819, -0.6310177 , ..., -0.22407975,\n",
       "        -0.14827588, -0.17692608],\n",
       "       ...,\n",
       "       [-0.49053462, -0.02985177, -0.6310177 , ..., -0.22407975,\n",
       "        -0.14827588, -0.17692608],\n",
       "       [ 0.63078674,  0.09922364, -0.30303019, ..., -0.22407975,\n",
       "        -0.14827588, -0.17692608],\n",
       "       [-0.4438129 ,  0.32869105, -0.6310177 , ..., -0.22407975,\n",
       "        -0.14827588, -0.17692608]])"
      ]
     },
     "execution_count": 227,
     "metadata": {},
     "output_type": "execute_result"
    }
   ],
   "source": [
    "x_Train_std"
   ]
  },
  {
   "cell_type": "markdown",
   "metadata": {},
   "source": [
    "### PCA ( show the first 30 PCs)"
   ]
  },
  {
   "cell_type": "code",
   "execution_count": 230,
   "metadata": {},
   "outputs": [
    {
     "data": {
      "text/plain": [
       "(45136, 30)"
      ]
     },
     "execution_count": 230,
     "metadata": {},
     "output_type": "execute_result"
    }
   ],
   "source": [
    "pca = PCA(n_components=30)\n",
    "pca.fit(x_Train_std)\n",
    "XtrainPCA = pca.transform(x_Train_std)\n",
    "#XtestPCA = pca.transform(XtestSTD)\n",
    "XtrainPCA.shape"
   ]
  },
  {
   "cell_type": "markdown",
   "metadata": {},
   "source": [
    "### PVE vs PC, we see that basically all PCs have very low PVE, and therefore depend on PCA we should consider all of the features . In this case, PCA does not really help us to do feature reduction, and we need to perform feature selection to reduce the dimension of the data (after one hot encoding, we now have 93 features)."
   ]
  },
  {
   "cell_type": "code",
   "execution_count": 243,
   "metadata": {},
   "outputs": [
    {
     "data": {
      "image/png": "[encoded data removed]",
      "text/plain": [
       "<Figure size 2160x576 with 1 Axes>"
      ]
     },
     "metadata": {
      "needs_background": "light"
     },
     "output_type": "display_data"
    }
   ],
   "source": [
    "PC = [1,2,3,4,5,6,7,8,9,10,11,12,13,14,15,16,17,18,19,20,21,22,23,24,25,26,27,28,29,30]\n",
    "pca_df = pd.DataFrame({'PVE':pca.explained_variance_ratio_, 'PC':PC})\n",
    "plt.figure(figsize=(30,8))\n",
    "sns.barplot(x='PC',y=\"PVE\", data=pca_df, color=\"r\");"
   ]
  },
  {
   "cell_type": "markdown",
   "metadata": {},
   "source": [
    "### Feature selection using Random Forest"
   ]
  },
  {
   "cell_type": "code",
   "execution_count": 247,
   "metadata": {},
   "outputs": [
    {
     "ename": "NameError",
     "evalue": "name 'accuracy_score' is not defined",
     "output_type": "error",
     "traceback": [
      "\u001b[0;31m---------------------------------------------------------------------------\u001b[0m",
      "\u001b[0;31mNameError\u001b[0m                                 Traceback (most recent call last)",
      "\u001b[0;32m<ipython-input-247-e25ea44d8288>\u001b[0m in \u001b[0;36m<module>\u001b[0;34m\u001b[0m\n\u001b[1;32m      2\u001b[0m \u001b[0mrf\u001b[0m\u001b[0;34m.\u001b[0m\u001b[0mfit\u001b[0m\u001b[0;34m(\u001b[0m\u001b[0mx_Train\u001b[0m\u001b[0;34m,\u001b[0m\u001b[0my_Train\u001b[0m\u001b[0;34m)\u001b[0m\u001b[0;34m\u001b[0m\u001b[0;34m\u001b[0m\u001b[0m\n\u001b[1;32m      3\u001b[0m \u001b[0mrf_pred\u001b[0m\u001b[0;34m=\u001b[0m\u001b[0mrf\u001b[0m\u001b[0;34m.\u001b[0m\u001b[0mpredict\u001b[0m\u001b[0;34m(\u001b[0m\u001b[0mx_Test\u001b[0m\u001b[0;34m)\u001b[0m\u001b[0;34m\u001b[0m\u001b[0;34m\u001b[0m\u001b[0m\n\u001b[0;32m----> 4\u001b[0;31m \u001b[0mrf_acc\u001b[0m \u001b[0;34m=\u001b[0m \u001b[0maccuracy_score\u001b[0m\u001b[0;34m(\u001b[0m\u001b[0my_Test\u001b[0m\u001b[0;34m,\u001b[0m \u001b[0mrf_pred\u001b[0m\u001b[0;34m)\u001b[0m\u001b[0;34m\u001b[0m\u001b[0;34m\u001b[0m\u001b[0m\n\u001b[0m\u001b[1;32m      5\u001b[0m \u001b[0mprint\u001b[0m\u001b[0;34m(\u001b[0m\u001b[0;34m\"Accuracy:\"\u001b[0m\u001b[0;34m,\u001b[0m\u001b[0mrf_acc\u001b[0m\u001b[0;34m)\u001b[0m\u001b[0;34m\u001b[0m\u001b[0;34m\u001b[0m\u001b[0m\n",
      "\u001b[0;31mNameError\u001b[0m: name 'accuracy_score' is not defined"
     ]
    }
   ],
   "source": [
    "rf=RandomForestClassifier(n_estimators=100)\n",
    "rf.fit(x_Train,y_Train)\n",
    "rf_pred=rf.predict(x_Test)\n"
   ]
  },
  {
   "cell_type": "code",
   "execution_count": 250,
   "metadata": {},
   "outputs": [
    {
     "name": "stdout",
     "output_type": "stream",
     "text": [
      "Accuracy: 0.8616625310173698\n"
     ]
    }
   ],
   "source": [
    "rf_acc = accuracy_score(y_Test, rf_pred)\n",
    "print(\"Accuracy:\",rf_acc)"
   ]
  },
  {
   "cell_type": "code",
   "execution_count": 251,
   "metadata": {},
   "outputs": [
    {
     "data": {
      "text/plain": [
       "array([0.03833292, 0.03689988, 0.0270005 , 0.03302504, 0.09474465,\n",
       "       0.04750189, 0.02693381, 0.02839594, 0.04319099, 0.12678045,\n",
       "       0.0515754 , 0.05903734, 0.0274359 , 0.05539418, 0.03633993,\n",
       "       0.04055558, 0.002398  , 0.00232669, 0.00217399, 0.00361032,\n",
       "       0.0024089 , 0.00247183, 0.00293522, 0.00307927, 0.00298465,\n",
       "       0.00280039, 0.00256416, 0.00302296, 0.00295189, 0.0033837 ,\n",
       "       0.00324192, 0.00276418, 0.00236469, 0.00266607, 0.00195989,\n",
       "       0.00458861, 0.00320551, 0.00368464, 0.00296468, 0.0028681 ,\n",
       "       0.00256544, 0.00229689, 0.0025551 , 0.00256007, 0.00267955,\n",
       "       0.0033668 , 0.0028042 , 0.00272913, 0.0024018 , 0.00249242,\n",
       "       0.00248556, 0.00348879, 0.00269496, 0.00308071, 0.0029013 ,\n",
       "       0.00311839, 0.00304482, 0.00273617, 0.00247635, 0.00260284,\n",
       "       0.00241794, 0.00304687, 0.00371084, 0.00272121, 0.01654556,\n",
       "       0.02000037, 0.00111521, 0.00228206, 0.00215775, 0.00144943,\n",
       "       0.00053169, 0.00221466, 0.00152134, 0.00191357, 0.00203217,\n",
       "       0.00258877, 0.0017171 , 0.00149664, 0.00284095, 0.00273096,\n",
       "       0.00186539, 0.00331171, 0.00299724, 0.0030913 , 0.00198927,\n",
       "       0.00228407, 0.00281684, 0.00135858, 0.00190527, 0.00250845,\n",
       "       0.00213289, 0.00105795])"
      ]
     },
     "execution_count": 251,
     "metadata": {},
     "output_type": "execute_result"
    }
   ],
   "source": [
    "importance = rf.feature_importances_\n",
    "importance"
   ]
  },
  {
   "cell_type": "markdown",
   "metadata": {},
   "source": [
    "### Feature name vs. Feature importance"
   ]
  },
  {
   "cell_type": "code",
   "execution_count": 253,
   "metadata": {},
   "outputs": [
    {
     "data": {
      "text/plain": [
       "{'MinTemp': 0.03833291793459076,\n",
       " 'MaxTemp': 0.03689988432486621,\n",
       " 'Rainfall': 0.0270005034646154,\n",
       " 'Evaporation': 0.033025039977856316,\n",
       " 'Sunshine': 0.09474464718317348,\n",
       " 'WindGustSpeed': 0.04750188950811559,\n",
       " 'WindSpeed9am': 0.026933810644341943,\n",
       " 'WindSpeed3pm': 0.028395943312060603,\n",
       " 'Humidity9am': 0.04319098711915674,\n",
       " 'Humidity3pm': 0.12678045108445857,\n",
       " 'Pressure9am': 0.051575400236297454,\n",
       " 'Pressure3pm': 0.05903733554088783,\n",
       " 'Cloud9am': 0.02743589522050547,\n",
       " 'Cloud3pm': 0.055394178646367316,\n",
       " 'Temp9am': 0.03633992855443758,\n",
       " 'Temp3pm': 0.040555576923445885,\n",
       " 'RainTomorrow': 0.0023980043364615206,\n",
       " 'WGD_E': 0.002326689243609066,\n",
       " 'WGD_ENE': 0.0021739869727795125,\n",
       " 'WGD_ESE': 0.003610315569012935,\n",
       " 'WGD_N': 0.0024089048625394387,\n",
       " 'WGD_NE': 0.0024718306561127977,\n",
       " 'WGD_NNE': 0.002935217201523155,\n",
       " 'WGD_NNW': 0.0030792685207535276,\n",
       " 'WGD_NW': 0.0029846542819423356,\n",
       " 'WGD_S': 0.002800385509720589,\n",
       " 'WGD_SE': 0.0025641558519369817,\n",
       " 'WGD_SSE': 0.003022964242547731,\n",
       " 'WGD_SSW': 0.0029518947264416183,\n",
       " 'WGD_SW': 0.00338370195713972,\n",
       " 'WGD_W': 0.0032419201418354567,\n",
       " 'WGD_WNW': 0.002764176128009047,\n",
       " 'WGD_WSW': 0.0023646867499368144,\n",
       " 'WD9_E': 0.0026660729051500155,\n",
       " 'WD9_ENE': 0.0019598896505107315,\n",
       " 'WD9_ESE': 0.004588608881597043,\n",
       " 'WD9_N': 0.0032055081985016974,\n",
       " 'WD9_NE': 0.0036846416935747478,\n",
       " 'WD9_NNE': 0.002964682413432072,\n",
       " 'WD9_NNW': 0.002868103498860249,\n",
       " 'WD9_NW': 0.002565441568873818,\n",
       " 'WD9_S': 0.0022968913282383494,\n",
       " 'WD9_SE': 0.002555098378854614,\n",
       " 'WD9_SSE': 0.0025600716640333935,\n",
       " 'WD9_SSW': 0.0026795479733260795,\n",
       " 'WD9_SW': 0.0033668022805414454,\n",
       " 'WD9_W': 0.002804202784243707,\n",
       " 'WD9_WNW': 0.002729133284846801,\n",
       " 'WD9_WSW': 0.0024017951601207734,\n",
       " 'WD3_E': 0.0024924207431122405,\n",
       " 'WD3_ENE': 0.002485557320357265,\n",
       " 'WD3_ESE': 0.0034887861112465413,\n",
       " 'WD3_N': 0.0026949632155819224,\n",
       " 'WD3_NE': 0.003080711845646782,\n",
       " 'WD3_NNE': 0.0029013030719381074,\n",
       " 'WD3_NNW': 0.003118392514713768,\n",
       " 'WD3_NW': 0.003044821414204707,\n",
       " 'WD3_S': 0.002736169804951342,\n",
       " 'WD3_SE': 0.0024763458541435935,\n",
       " 'WD3_SSE': 0.002602843325693127,\n",
       " 'WD3_SSW': 0.0024179430486934578,\n",
       " 'WD3_SW': 0.003046868059040937,\n",
       " 'WD3_W': 0.003710835432524866,\n",
       " 'WD3_WNW': 0.0027212091958636253,\n",
       " 'WD3_WSW': 0.016545563731346732,\n",
       " 0: 0.02000036510917486,\n",
       " 1: 0.0011152097998184441,\n",
       " 'AliceSprings': 0.0022820562733196458,\n",
       " 'Brisbane': 0.0021577459462221006,\n",
       " 'Cairns': 0.0014494327553541218,\n",
       " 'Canberra': 0.0005316851587583501,\n",
       " 'Cobar': 0.00221465775034639,\n",
       " 'CoffsHarbour': 0.0015213434399997316,\n",
       " 'Darwin': 0.0019135708436404334,\n",
       " 'Hobart': 0.002032165091264419,\n",
       " 'Melbourne': 0.0025887667887389294,\n",
       " 'MelbourneAirport': 0.0017171026459046148,\n",
       " 'Mildura': 0.001496644791916953,\n",
       " 'Moree': 0.0028409542461969054,\n",
       " 'MountGambier': 0.002730955271015533,\n",
       " 'NorfolkIsland': 0.0018653928837526828,\n",
       " 'Nuriootpa': 0.0033117098868105854,\n",
       " 'Perth': 0.002997242174710569,\n",
       " 'PerthAirport': 0.003091303617970436,\n",
       " 'Portland': 0.001989268808002419,\n",
       " 'Sale': 0.002284070494100079,\n",
       " 'Sydney': 0.0028168401098395825,\n",
       " 'SydneyAirport': 0.0013585825691468617,\n",
       " 'Townsville': 0.0019052727864083757,\n",
       " 'WaggaWagga': 0.002508448411701837,\n",
       " 'Watsonia': 0.00213288924756617}"
      ]
     },
     "execution_count": 253,
     "metadata": {},
     "output_type": "execute_result"
    }
   ],
   "source": [
    "col_importance = {}\n",
    "for i in range(len(df_new.columns) - 2):\n",
    "    for j in range(len(importance)):\n",
    "        col_importance[df_new.columns[i]] = importance[i]\n",
    "        break\n",
    "col_importance"
   ]
  },
  {
   "cell_type": "markdown",
   "metadata": {},
   "source": [
    "### Sort the features based on feature importance (large to small)"
   ]
  },
  {
   "cell_type": "code",
   "execution_count": 254,
   "metadata": {},
   "outputs": [
    {
     "data": {
      "text/plain": [
       "{'Humidity3pm': 0.12678045108445857,\n",
       " 'Sunshine': 0.09474464718317348,\n",
       " 'Pressure3pm': 0.05903733554088783,\n",
       " 'Cloud3pm': 0.055394178646367316,\n",
       " 'Pressure9am': 0.051575400236297454,\n",
       " 'WindGustSpeed': 0.04750188950811559,\n",
       " 'Humidity9am': 0.04319098711915674,\n",
       " 'Temp3pm': 0.040555576923445885,\n",
       " 'MinTemp': 0.03833291793459076,\n",
       " 'MaxTemp': 0.03689988432486621,\n",
       " 'Temp9am': 0.03633992855443758,\n",
       " 'Evaporation': 0.033025039977856316,\n",
       " 'WindSpeed3pm': 0.028395943312060603,\n",
       " 'Cloud9am': 0.02743589522050547,\n",
       " 'Rainfall': 0.0270005034646154,\n",
       " 'WindSpeed9am': 0.026933810644341943,\n",
       " 0: 0.02000036510917486,\n",
       " 'WD3_WSW': 0.016545563731346732,\n",
       " 'WD9_ESE': 0.004588608881597043,\n",
       " 'WD3_W': 0.003710835432524866,\n",
       " 'WD9_NE': 0.0036846416935747478,\n",
       " 'WGD_ESE': 0.003610315569012935,\n",
       " 'WD3_ESE': 0.0034887861112465413,\n",
       " 'WGD_SW': 0.00338370195713972,\n",
       " 'WD9_SW': 0.0033668022805414454,\n",
       " 'Nuriootpa': 0.0033117098868105854,\n",
       " 'WGD_W': 0.0032419201418354567,\n",
       " 'WD9_N': 0.0032055081985016974,\n",
       " 'WD3_NNW': 0.003118392514713768,\n",
       " 'PerthAirport': 0.003091303617970436,\n",
       " 'WD3_NE': 0.003080711845646782,\n",
       " 'WGD_NNW': 0.0030792685207535276,\n",
       " 'WD3_SW': 0.003046868059040937,\n",
       " 'WD3_NW': 0.003044821414204707,\n",
       " 'WGD_SSE': 0.003022964242547731,\n",
       " 'Perth': 0.002997242174710569,\n",
       " 'WGD_NW': 0.0029846542819423356,\n",
       " 'WD9_NNE': 0.002964682413432072,\n",
       " 'WGD_SSW': 0.0029518947264416183,\n",
       " 'WGD_NNE': 0.002935217201523155,\n",
       " 'WD3_NNE': 0.0029013030719381074,\n",
       " 'WD9_NNW': 0.002868103498860249,\n",
       " 'Moree': 0.0028409542461969054,\n",
       " 'Sydney': 0.0028168401098395825,\n",
       " 'WD9_W': 0.002804202784243707,\n",
       " 'WGD_S': 0.002800385509720589,\n",
       " 'WGD_WNW': 0.002764176128009047,\n",
       " 'WD3_S': 0.002736169804951342,\n",
       " 'MountGambier': 0.002730955271015533,\n",
       " 'WD9_WNW': 0.002729133284846801,\n",
       " 'WD3_WNW': 0.0027212091958636253,\n",
       " 'WD3_N': 0.0026949632155819224,\n",
       " 'WD9_SSW': 0.0026795479733260795,\n",
       " 'WD9_E': 0.0026660729051500155,\n",
       " 'WD3_SSE': 0.002602843325693127,\n",
       " 'Melbourne': 0.0025887667887389294,\n",
       " 'WD9_NW': 0.002565441568873818,\n",
       " 'WGD_SE': 0.0025641558519369817,\n",
       " 'WD9_SSE': 0.0025600716640333935,\n",
       " 'WD9_SE': 0.002555098378854614,\n",
       " 'WaggaWagga': 0.002508448411701837,\n",
       " 'WD3_E': 0.0024924207431122405,\n",
       " 'WD3_ENE': 0.002485557320357265,\n",
       " 'WD3_SE': 0.0024763458541435935,\n",
       " 'WGD_NE': 0.0024718306561127977,\n",
       " 'WD3_SSW': 0.0024179430486934578,\n",
       " 'WGD_N': 0.0024089048625394387,\n",
       " 'WD9_WSW': 0.0024017951601207734,\n",
       " 'RainTomorrow': 0.0023980043364615206,\n",
       " 'WGD_WSW': 0.0023646867499368144,\n",
       " 'WGD_E': 0.002326689243609066,\n",
       " 'WD9_S': 0.0022968913282383494,\n",
       " 'Sale': 0.002284070494100079,\n",
       " 'AliceSprings': 0.0022820562733196458,\n",
       " 'Cobar': 0.00221465775034639,\n",
       " 'WGD_ENE': 0.0021739869727795125,\n",
       " 'Brisbane': 0.0021577459462221006,\n",
       " 'Watsonia': 0.00213288924756617,\n",
       " 'Hobart': 0.002032165091264419,\n",
       " 'Portland': 0.001989268808002419,\n",
       " 'WD9_ENE': 0.0019598896505107315,\n",
       " 'Darwin': 0.0019135708436404334,\n",
       " 'Townsville': 0.0019052727864083757,\n",
       " 'NorfolkIsland': 0.0018653928837526828,\n",
       " 'MelbourneAirport': 0.0017171026459046148,\n",
       " 'CoffsHarbour': 0.0015213434399997316,\n",
       " 'Mildura': 0.001496644791916953,\n",
       " 'Cairns': 0.0014494327553541218,\n",
       " 'SydneyAirport': 0.0013585825691468617,\n",
       " 1: 0.0011152097998184441,\n",
       " 'Canberra': 0.0005316851587583501}"
      ]
     },
     "execution_count": 254,
     "metadata": {},
     "output_type": "execute_result"
    }
   ],
   "source": [
    "sorted_col_importance = {}\n",
    "##do it in reverse to the most important featrue are first\n",
    "sorted_keys = reversed(sorted(col_importance, key=col_importance.get))\n",
    "for i in sorted_keys:\n",
    "    sorted_col_importance[i] = col_importance[i]\n",
    "sorted_col_importance\n"
   ]
  },
  {
   "cell_type": "code",
   "execution_count": 375,
   "metadata": {},
   "outputs": [],
   "source": [
    "#orderedCols = list(sorted_col_importance.keys())\n",
    "#orderedCols\n",
    "#numCols = 15\n",
    "#cols_to_use = []\n",
    "#for i in range(numCols):\n",
    "    #cols_to_use.append(orderedCols[i])\n",
    "#cols_to_use"
   ]
  },
  {
   "cell_type": "code",
   "execution_count": 264,
   "metadata": {},
   "outputs": [
    {
     "data": {
      "text/plain": [
       "dict_keys(['Humidity3pm', 'Sunshine', 'Pressure3pm', 'Cloud3pm', 'Pressure9am', 'WindGustSpeed', 'Humidity9am', 'Temp3pm', 'MinTemp', 'MaxTemp', 'Temp9am', 'Evaporation', 'WindSpeed3pm', 'Cloud9am', 'Rainfall', 'WindSpeed9am', 0, 'WD3_WSW', 'WD9_ESE', 'WD3_W', 'WD9_NE', 'WGD_ESE', 'WD3_ESE', 'WGD_SW', 'WD9_SW', 'Nuriootpa', 'WGD_W', 'WD9_N', 'WD3_NNW', 'PerthAirport', 'WD3_NE', 'WGD_NNW', 'WD3_SW', 'WD3_NW', 'WGD_SSE', 'Perth', 'WGD_NW', 'WD9_NNE', 'WGD_SSW', 'WGD_NNE', 'WD3_NNE', 'WD9_NNW', 'Moree', 'Sydney', 'WD9_W', 'WGD_S', 'WGD_WNW', 'WD3_S', 'MountGambier', 'WD9_WNW', 'WD3_WNW', 'WD3_N', 'WD9_SSW', 'WD9_E', 'WD3_SSE', 'Melbourne', 'WD9_NW', 'WGD_SE', 'WD9_SSE', 'WD9_SE', 'WaggaWagga', 'WD3_E', 'WD3_ENE', 'WD3_SE', 'WGD_NE', 'WD3_SSW', 'WGD_N', 'WD9_WSW', 'RainTomorrow', 'WGD_WSW', 'WGD_E', 'WD9_S', 'Sale', 'AliceSprings', 'Cobar', 'WGD_ENE', 'Brisbane', 'Watsonia', 'Hobart', 'Portland', 'WD9_ENE', 'Darwin', 'Townsville', 'NorfolkIsland', 'MelbourneAirport', 'CoffsHarbour', 'Mildura', 'Cairns', 'SydneyAirport', 1, 'Canberra'])"
      ]
     },
     "execution_count": 264,
     "metadata": {},
     "output_type": "execute_result"
    }
   ],
   "source": [
    "sorted_col_importance.keys()"
   ]
  },
  {
   "cell_type": "code",
   "execution_count": 288,
   "metadata": {},
   "outputs": [],
   "source": [
    "x_ax=list(sorted_col_importance.keys())\n",
    "y_ax=list(sorted_col_importance.values())"
   ]
  },
  {
   "cell_type": "markdown",
   "metadata": {},
   "source": [
    "### Visulization to show feature vs. feature importance. We can see that after the 18th feature, the feature importance decline sharply. This means we probably should not consider the rest features(19th to the end) when building our model"
   ]
  },
  {
   "cell_type": "code",
   "execution_count": 298,
   "metadata": {},
   "outputs": [
    {
     "data": {
      "image/png": "[encoded data removed]",
      "text/plain": [
       "<Figure size 2160x1080 with 1 Axes>"
      ]
     },
     "metadata": {
      "needs_background": "light"
     },
     "output_type": "display_data"
    }
   ],
   "source": [
    "\n",
    "fs_df = pd.DataFrame({'Feature importance':y_ax, 'Feature':x_ax})\n",
    "plt.figure(figsize=(30,15))\n",
    "sns.barplot(x='Feature importance',y=\"Feature\", data=fs_df, color=\"r\");"
   ]
  },
  {
   "cell_type": "markdown",
   "metadata": {},
   "source": [
    "### The name of the first 18 most important features"
   ]
  },
  {
   "cell_type": "code",
   "execution_count": 391,
   "metadata": {},
   "outputs": [
    {
     "data": {
      "text/plain": [
       "['Humidity3pm',\n",
       " 'Sunshine',\n",
       " 'Pressure3pm',\n",
       " 'Cloud3pm',\n",
       " 'Pressure9am',\n",
       " 'WindGustSpeed',\n",
       " 'Humidity9am',\n",
       " 'Temp3pm',\n",
       " 'MinTemp',\n",
       " 'MaxTemp',\n",
       " 'Temp9am',\n",
       " 'Evaporation',\n",
       " 'WindSpeed3pm',\n",
       " 'Cloud9am',\n",
       " 'Rainfall',\n",
       " 'WindSpeed9am',\n",
       " 0,\n",
       " 'WD3_WSW']"
      ]
     },
     "execution_count": 391,
     "metadata": {},
     "output_type": "execute_result"
    }
   ],
   "source": [
    "x_ax[0:18]\n"
   ]
  },
  {
   "cell_type": "markdown",
   "metadata": {},
   "source": [
    "### Run a for loop to see what is the best features to use among these 18 features"
   ]
  },
  {
   "cell_type": "code",
   "execution_count": 395,
   "metadata": {},
   "outputs": [
    {
     "name": "stdout",
     "output_type": "stream",
     "text": [
      "Accuracy: 0.8419000354484225\n",
      "Accuracy: 0.8489897199574619\n",
      "Accuracy: 0.8507621410847217\n",
      "Accuracy: 0.8532435306628855\n",
      "Accuracy: 0.8545728465083304\n",
      "Accuracy: 0.8556362991846863\n",
      "Accuracy: 0.8546614675646934\n",
      "Accuracy: 0.858472172988302\n",
      "Accuracy: 0.8572314781992202\n",
      "Accuracy: 0.8567883729174052\n",
      "Accuracy: 0.859181141439206\n",
      "Accuracy: 0.8613080467919177\n",
      "Accuracy: 0.8582063098192131\n",
      "Accuracy: 0.859092520382843\n"
     ]
    }
   ],
   "source": [
    "list_fs=[]\n",
    "for i in range(5,19):\n",
    "    df_after_fs=df_new.filter(x_ax[0:i])\n",
    "    df_after_fs[\"RainTomorrow\"]=df_new[\"RainTomorrow\"]\n",
    "    df_after_fs\n",
    "    from sklearn.model_selection import train_test_split, GridSearchCV\n",
    "    train_set1, test_set1 = train_test_split(df_after_fs, test_size=0.2,random_state=30)\n",
    "    x_Train1=train_set1.drop(['RainTomorrow'],axis=1)\n",
    "    y_Train1=train_set1.RainTomorrow\n",
    "    x_Test1=test_set1.drop(['RainTomorrow'],axis=1)\n",
    "    y_Test1=test_set1.RainTomorrow\n",
    "    rf1=RandomForestClassifier(n_estimators=100)\n",
    "    rf1.fit(x_Train1,y_Train1)\n",
    "    \n",
    "    rf_pred1=rf1.predict(x_Test1)\n",
    "    rf_acc1 = accuracy_score(y_Test1, rf_pred1)\n",
    "    list_fs.append(rf_acc1)\n",
    "    print(\"Accuracy:\",rf_acc1) \n",
    "    \n",
    "    \n",
    "    \n",
    "    \n",
    "    \n",
    "\n",
    "    \n",
    "    "
   ]
  },
  {
   "cell_type": "markdown",
   "metadata": {},
   "source": [
    "### Feature vs model accuracy, we find that at the 16th most important feature, the accuracy reached the peak. Therefore we should stop there and use only the first 16 most important feature to construct our model.\n",
    "\n",
    "### NOTE: we deafaulty took first 5 most important features into account, therefore on the graph below the first feature on the x-axis is actually the 5th most important feature 'Pressure9am', and the interpretation of the y value of the left most point on the graph is the model accuracy when using the first 5 most important features."
   ]
  },
  {
   "cell_type": "code",
   "execution_count": 397,
   "metadata": {},
   "outputs": [
    {
     "data": {
      "text/plain": [
       "Text(0, 0.5, 'Model Accuracy')"
      ]
     },
     "execution_count": 397,
     "metadata": {},
     "output_type": "execute_result"
    },
    {
     "data": {
      "image/png": "[encoded data removed]",
      "text/plain": [
       "<Figure size 1440x504 with 1 Axes>"
      ]
     },
     "metadata": {
      "needs_background": "light"
     },
     "output_type": "display_data"
    }
   ],
   "source": [
    "plt.figure(figsize=(20,7))\n",
    "plt.plot([\n",
    "'Pressure9am',\n",
    "'WindGustSpeed',\n",
    " 'Humidity9am',\n",
    " 'Temp3pm',\n",
    " 'MinTemp',\n",
    " 'MaxTemp',\n",
    " 'Temp9am',\n",
    " 'Evaporation',\n",
    " 'WindSpeed3pm',\n",
    " 'Cloud9am',\n",
    " 'Rainfall',\n",
    " 'WindSpeed9am',\n",
    " 0,'WD3_WSW'],list_fs)\n",
    "plt.xlabel(\"Feature\")\n",
    "plt.ylabel(\"Model Accuracy\")"
   ]
  },
  {
   "cell_type": "markdown",
   "metadata": {},
   "source": [
    "### Accuracy using the first 16 most important features to run random forest"
   ]
  },
  {
   "cell_type": "code",
   "execution_count": 399,
   "metadata": {},
   "outputs": [
    {
     "name": "stdout",
     "output_type": "stream",
     "text": [
      "Accuracy: 0.8582949308755761\n"
     ]
    }
   ],
   "source": [
    "df_after_fs1=df_new.filter(x_ax[0:16])\n",
    "df_after_fs1[\"RainTomorrow\"]=df_new[\"RainTomorrow\"]\n",
    "df_after_fs1\n",
    "from sklearn.model_selection import train_test_split, GridSearchCV\n",
    "train_set1, test_set1 = train_test_split(df_after_fs1, test_size=0.2,random_state=30)\n",
    "x_Train1=train_set1.drop(['RainTomorrow'],axis=1)\n",
    "y_Train1=train_set1.RainTomorrow\n",
    "x_Test1=test_set1.drop(['RainTomorrow'],axis=1)\n",
    "y_Test1=test_set1.RainTomorrow\n",
    "rf1=RandomForestClassifier(n_estimators=100)\n",
    "rf1.fit(x_Train1,y_Train1)\n",
    "    \n",
    "rf_pred1=rf1.predict(x_Test1)\n",
    "rf_acc1 = accuracy_score(y_Test1, rf_pred1)\n",
    "list_fs.append(rf_acc1)\n",
    "print(\"Accuracy:\",rf_acc1) \n",
    "\n",
    "rf_cm = confusion_matrix(y_Test, rf_pred)\n"
   ]
  },
  {
   "cell_type": "markdown",
   "metadata": {},
   "source": [
    "### Confusion Matrix"
   ]
  },
  {
   "cell_type": "code",
   "execution_count": 419,
   "metadata": {},
   "outputs": [
    {
     "name": "stdout",
     "output_type": "stream",
     "text": [
      "Confusion Matrix: \n"
     ]
    },
    {
     "data": {
      "text/plain": [
       "<matplotlib.axes._subplots.AxesSubplot at 0x7fa27a54f3a0>"
      ]
     },
     "execution_count": 419,
     "metadata": {},
     "output_type": "execute_result"
    },
    {
     "data": {
      "image/png": "[encoded data removed]",
      "text/plain": [
       "<Figure size 432x288 with 2 Axes>"
      ]
     },
     "metadata": {
      "needs_background": "light"
     },
     "output_type": "display_data"
    }
   ],
   "source": [
    "rf_cm = confusion_matrix(y_Test1, rf_pred1)\n",
    "print(\"Confusion Matrix: \")\n",
    "sns.heatmap(rf_cm, annot = True, fmt='d')\n",
    "\n",
    "\n"
   ]
  },
  {
   "cell_type": "markdown",
   "metadata": {},
   "source": [
    "### ROC CURVE"
   ]
  },
  {
   "cell_type": "code",
   "execution_count": 420,
   "metadata": {},
   "outputs": [
    {
     "data": {
      "image/png": "[encoded data removed]",
      "text/plain": [
       "<Figure size 432x288 with 1 Axes>"
      ]
     },
     "metadata": {
      "needs_background": "light"
     },
     "output_type": "display_data"
    }
   ],
   "source": [
    "import sklearn.metrics as metrics\n",
    "\n",
    "probs = rf1.predict_proba(x_Test1)\n",
    "preds = probs[:,1]\n",
    "fpr, tpr, threshold = metrics.roc_curve(y_Test, preds)\n",
    "roc_auc = metrics.auc(fpr, tpr)\n",
    "\n",
    "plt.title('ROC before gridsearch')\n",
    "plt.plot(fpr, tpr, 'b', label = 'AUC = %0.2f' % roc_auc)\n",
    "plt.legend(loc = 'lower right')\n",
    "plt.plot([0, 1], [0, 1],'r--')\n",
    "plt.xlim([0, 1])\n",
    "plt.ylim([0, 1])\n",
    "plt.ylabel('True Positive Rate')\n",
    "plt.xlabel('False Positive Rate')\n",
    "plt.show()\n"
   ]
  },
  {
   "cell_type": "code",
   "execution_count": null,
   "metadata": {},
   "outputs": [],
   "source": [
    "\n"
   ]
  },
  {
   "cell_type": "markdown",
   "metadata": {},
   "source": [
    "### Grid Search"
   ]
  },
  {
   "cell_type": "code",
   "execution_count": null,
   "metadata": {},
   "outputs": [],
   "source": [
    "#the best hyperharapeters by running gridsearch is \n",
    "#(bootstrap= False, criterion= 'entropy', min_samples_split= 4, n_estimators= 200)\n",
    "#It took more than 10 hour to run and the result from last run was not saved so I just place it here.\n",
    "rf = RandomForestClassifier(random_state=30)\n",
    "parameters = {'bootstrap': [True, False],\n",
    "              'min_samples_split':[2, 3, 4,5,6,7],\n",
    "              'criterion':['entropy', 'gini'],\n",
    "              'n_estimators':[100, 200,300,400,500,600]\n",
    "             }\n",
    "grid_search= GridSearchCV(estimator=rf, param_grid=parameters, refit='roc_auc', scoring=['accuracy', 'roc_auc'], cv=10, n_jobs=-1)\n",
    "grid_search= grid_search.fit(x_Train, y_Train.values.ravel())"
   ]
  },
  {
   "cell_type": "code",
   "execution_count": 428,
   "metadata": {},
   "outputs": [
    {
     "name": "stdout",
     "output_type": "stream",
     "text": [
      "0.8639666784828075\n"
     ]
    }
   ],
   "source": [
    "rf = RandomForestClassifier(bootstrap= False, criterion= 'entropy', min_samples_split= 4, n_estimators= 200, random_state=30)\n",
    "rf.fit(x_Train, y_Train.values.ravel())\n",
    "ypred = rf.predict(x_Test)\n",
    "accuracy = accuracy_score(ypred, y_Test)\n",
    "print(accuracy)"
   ]
  },
  {
   "cell_type": "code",
   "execution_count": 432,
   "metadata": {},
   "outputs": [
    {
     "data": {
      "image/png": "[encoded data removed]",
      "text/plain": [
       "<Figure size 432x288 with 1 Axes>"
      ]
     },
     "metadata": {
      "needs_background": "light"
     },
     "output_type": "display_data"
    }
   ],
   "source": [
    "probs = rf.predict_proba(x_Test)\n",
    "preds = probs[:,1]\n",
    "fpr, tpr, threshold = metrics.roc_curve(y_Test, preds)\n",
    "roc_auc = metrics.auc(fpr, tpr)\n",
    "\n",
    "plt.title('ROC after gridsearch')\n",
    "plt.plot(fpr, tpr, 'b', label = 'AUC = %0.2f' % roc_auc)\n",
    "plt.legend(loc = 'lower right')\n",
    "plt.plot([0, 1], [0, 1],'r--')\n",
    "plt.xlim([0, 1])\n",
    "plt.ylim([0, 1])\n",
    "plt.ylabel('True Positive Rate')\n",
    "plt.xlabel('False Positive Rate')\n",
    "plt.show()"
   ]
  },
  {
   "cell_type": "code",
   "execution_count": 431,
   "metadata": {
    "scrolled": true
   },
   "outputs": [
    {
     "name": "stdout",
     "output_type": "stream",
     "text": [
      "Confusion Matrix: \n"
     ]
    },
    {
     "data": {
      "text/plain": [
       "<matplotlib.axes._subplots.AxesSubplot at 0x7fa26bdde460>"
      ]
     },
     "execution_count": 431,
     "metadata": {},
     "output_type": "execute_result"
    },
    {
     "data": {
      "image/png": "[encoded data removed]",
      "text/plain": [
       "<Figure size 432x288 with 2 Axes>"
      ]
     },
     "metadata": {
      "needs_background": "light"
     },
     "output_type": "display_data"
    }
   ],
   "source": [
    "rf_cm1 = confusion_matrix(y_Test, ypred)\n",
    "print(\"Confusion Matrix: \")\n",
    "sns.heatmap(rf_cm1, annot = True, fmt='d')"
   ]
  },
  {
   "cell_type": "markdown",
   "metadata": {},
   "source": []
  }
 ],
 "metadata": {
  "kernelspec": {
   "display_name": "Python 3",
   "language": "python",
   "name": "python3"
  },
  "language_info": {
   "codemirror_mode": {
    "name": "ipython",
    "version": 3
   },
   "file_extension": ".py",
   "mimetype": "text/x-python",
   "name": "python",
   "nbconvert_exporter": "python",
   "pygments_lexer": "ipython3",
   "version": "3.8.3"
  }
 },
 "nbformat": 4,
 "nbformat_minor": 4
}
